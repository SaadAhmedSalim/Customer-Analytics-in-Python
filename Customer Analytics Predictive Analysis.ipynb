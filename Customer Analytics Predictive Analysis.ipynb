{
 "cells": [
  {
   "cell_type": "markdown",
   "metadata": {},
   "source": [
    "# Libraries"
   ]
  },
  {
   "cell_type": "code",
   "execution_count": 9,
   "metadata": {},
   "outputs": [],
   "source": [
    "import numpy as np\n",
    "import pandas as pd\n",
    "import pickle\n",
    "import matplotlib.pyplot as plt\n",
    "import seaborn as sns\n",
    "sns.set()\n",
    "\n",
    "from sklearn.preprocessing import StandardScaler\n",
    "from sklearn.cluster import KMeans\n",
    "from sklearn.decomposition import PCA\n",
    "from sklearn.linear_model import LogisticRegression"
   ]
  },
  {
   "cell_type": "markdown",
   "metadata": {},
   "source": [
    "# Data Preparation"
   ]
  },
  {
   "cell_type": "code",
   "execution_count": 7,
   "metadata": {},
   "outputs": [],
   "source": [
    "# load dataset\n",
    "df_purchase = pd.read_csv('Desktop/Customer Analytics in python/purchase data.csv')\n",
    "\n",
    "# import Scaler\n",
    "scaler = pickle.load(open('scaler.pickle', 'rb'))\n",
    "\n",
    "# import PCA\n",
    "pca = pickle.load(open('pca.pickle', 'rb'))\n",
    "\n",
    "# import K means\n",
    "kmeans_pca = pickle.load(open('kmeans_pca.pickle', 'rb'))\n",
    "\n",
    "# standardization\n",
    "features = df_purchase[['Sex', 'Marital status', 'Age', 'Education', 'Income', 'Occupation', 'Settlement size']]\n",
    "df_purchase_segm_std = scaler.transform(features)\n",
    "\n",
    "# apply pca\n",
    "df_purchase_segm_pca = pca.transform(df_purchase_segm_std)\n",
    "\n",
    "# segment data\n",
    "purchase_segm_kmeans_pca = kmeans_pca.predict(df_purchase_segm_pca)\n",
    "\n",
    "# create a copy of the data frame\n",
    "df_purchase_predictors = df_purchase.copy()\n",
    "\n",
    "# add segment labels\n",
    "df_purchase_predictors['Segment'] = purchase_segm_kmeans_pca\n",
    "segment_dummies = pd.get_dummies(purchase_segm_kmeans_pca, prefix = 'Segment' , prefix_sep = '_')\n",
    "df_purchase_predictors = pd.concat([df_purchase_predictors, segment_dummies], axis = 1)\n",
    "\n",
    "df_pa = df_purchase_predictors"
   ]
  },
  {
   "cell_type": "markdown",
   "metadata": {},
   "source": [
    "# Purchase Probability Model"
   ]
  },
  {
   "cell_type": "code",
   "execution_count": 8,
   "metadata": {},
   "outputs": [],
   "source": [
    "Y = df_pa['Incidence']"
   ]
  },
  {
   "cell_type": "code",
   "execution_count": 10,
   "metadata": {},
   "outputs": [],
   "source": [
    "X = pd.DataFrame()\n",
    "X['Mean Price'] = (df_pa['Price_1'] +\n",
    "                  df_pa['Price_2'] +\n",
    "                  df_pa['Price_3'] +\n",
    "                  df_pa['Price_4'] +\n",
    "                  df_pa['Price_5']) / 5"
   ]
  },
  {
   "cell_type": "code",
   "execution_count": 12,
   "metadata": {},
   "outputs": [
    {
     "data": {
      "text/plain": [
       "LogisticRegression(C=1.0, class_weight=None, dual=False, fit_intercept=True,\n",
       "                   intercept_scaling=1, l1_ratio=None, max_iter=100,\n",
       "                   multi_class='warn', n_jobs=None, penalty='l2',\n",
       "                   random_state=None, solver='sag', tol=0.0001, verbose=0,\n",
       "                   warm_start=False)"
      ]
     },
     "execution_count": 12,
     "metadata": {},
     "output_type": "execute_result"
    }
   ],
   "source": [
    "model_purchase = LogisticRegression(solver = 'sag')\n",
    "model_purchase.fit(X,Y)"
   ]
  },
  {
   "cell_type": "code",
   "execution_count": 13,
   "metadata": {},
   "outputs": [
    {
     "data": {
      "text/plain": [
       "array([[-2.34762128]])"
      ]
     },
     "execution_count": 13,
     "metadata": {},
     "output_type": "execute_result"
    }
   ],
   "source": [
    "model_purchase.coef_"
   ]
  },
  {
   "cell_type": "code",
   "execution_count": null,
   "metadata": {},
   "outputs": [],
   "source": []
  }
 ],
 "metadata": {
  "kernelspec": {
   "display_name": "Python 3",
   "language": "python",
   "name": "python3"
  },
  "language_info": {
   "codemirror_mode": {
    "name": "ipython",
    "version": 3
   },
   "file_extension": ".py",
   "mimetype": "text/x-python",
   "name": "python",
   "nbconvert_exporter": "python",
   "pygments_lexer": "ipython3",
   "version": "3.7.4"
  }
 },
 "nbformat": 4,
 "nbformat_minor": 2
}
